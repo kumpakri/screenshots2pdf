{
 "cells": [
  {
   "cell_type": "code",
   "execution_count": 10,
   "metadata": {},
   "outputs": [],
   "source": [
    "import os\n",
    "from PIL import Image\n",
    "from reportlab.pdfgen import canvas\n",
    "from reportlab.lib.pagesizes import letter, A4\n",
    "from reportlab.lib.units import inch"
   ]
  },
  {
   "cell_type": "code",
   "execution_count": 11,
   "metadata": {},
   "outputs": [],
   "source": [
    "\n",
    "def create_pdf_from_screenshots(input_folder, output_pdf, columns=2, margin=0.5, space=0.1):\n",
    "    # Get all image files from the input folder\n",
    "    image_files = [f for f in os.listdir(input_folder) if f.lower().endswith(('.png', '.jpg', '.jpeg', '.gif'))]\n",
    "    \n",
    "    # Sort files to ensure consistent ordering\n",
    "    image_files.sort()\n",
    "    \n",
    "    # Create a new PDF\n",
    "    c = canvas.Canvas(output_pdf, pagesize=A4)\n",
    "    width, height = A4\n",
    "    \n",
    "    # Calculate usable width and height\n",
    "    usable_width = width - 2 * margin * inch\n",
    "    usable_height = height - 2 * margin * inch\n",
    "    \n",
    "    # Calculate column width\n",
    "    column_width = usable_width / columns\n",
    "    \n",
    "    x, y = margin * inch, height - margin * inch\n",
    "    current_column = 0\n",
    "    \n",
    "    for image_file in image_files:\n",
    "        img = Image.open(os.path.join(input_folder, image_file))\n",
    "        img_width, img_height = img.size\n",
    "        \n",
    "        # Scale image to fit column width\n",
    "        scale_factor = (column_width - space) / img_width\n",
    "        new_height = img_height * scale_factor\n",
    "        \n",
    "        # Check if image fits on current page\n",
    "        if new_height < usable_height:\n",
    "            if y - new_height < margin * inch:\n",
    "                # Move to next column or new page\n",
    "                current_column += 1\n",
    "                if current_column >= columns:\n",
    "                    c.showPage()\n",
    "                    current_column = 0\n",
    "                    x = margin * inch\n",
    "                    y = height - margin * inch\n",
    "                else:\n",
    "                    x += column_width + space\n",
    "                    y = height - margin * inch\n",
    "        else:\n",
    "            print(\"[ERROR] Image does not fit\")\n",
    "        \n",
    "        # Draw image\n",
    "        c.drawImage(os.path.join(input_folder, image_file), x, y - new_height, width=(column_width - space), height=new_height)\n",
    "        y -= new_height\n",
    "    \n",
    "    # Save the PDF\n",
    "    c.save()"
   ]
  },
  {
   "cell_type": "code",
   "execution_count": null,
   "metadata": {},
   "outputs": [],
   "source": [
    "input_folder = '../img'\n",
    "output_pdf = \"../merged.pdf\"\n",
    "create_pdf_from_screenshots(input_folder, output_pdf, columns=3, margin=0.3, space=10)"
   ]
  },
  {
   "cell_type": "code",
   "execution_count": null,
   "metadata": {},
   "outputs": [],
   "source": []
  }
 ],
 "metadata": {
  "kernelspec": {
   "display_name": "myenv",
   "language": "python",
   "name": "python3"
  },
  "language_info": {
   "codemirror_mode": {
    "name": "ipython",
    "version": 3
   },
   "file_extension": ".py",
   "mimetype": "text/x-python",
   "name": "python",
   "nbconvert_exporter": "python",
   "pygments_lexer": "ipython3",
   "version": "3.11.4"
  }
 },
 "nbformat": 4,
 "nbformat_minor": 2
}
