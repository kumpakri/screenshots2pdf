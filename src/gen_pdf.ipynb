{
 "cells": [
  {
   "cell_type": "code",
   "execution_count": 47,
   "metadata": {},
   "outputs": [],
   "source": [
    "import os\n",
    "from PIL import Image, ImageOps\n",
    "import numpy as np\n",
    "from reportlab.pdfgen import canvas\n",
    "from reportlab.lib.pagesizes import letter, A4\n",
    "from reportlab.lib.units import inch"
   ]
  },
  {
   "cell_type": "code",
   "execution_count": 48,
   "metadata": {},
   "outputs": [],
   "source": [
    "def is_dark(image):\n",
    "    \"\"\"\n",
    "    Returns true if image is dark (with the black background)\n",
    "    \"\"\"\n",
    "     # Convert the image to grayscale\n",
    "    gray_image = image.convert('L')\n",
    "    \n",
    "    # Convert the image to a numpy array\n",
    "    img_array = np.array(gray_image)\n",
    "\n",
    "    # Calculate the percentage of dark pixels\n",
    "    dark_pixels = np.sum(img_array < 128) / img_array.size\n",
    "\n",
    "     # Determine if the background is likely black\n",
    "    return dark_pixels > 0.5"
   ]
  },
  {
   "cell_type": "code",
   "execution_count": 49,
   "metadata": {},
   "outputs": [],
   "source": [
    "def invert_colors(img):\n",
    "    \"\"\"Inverts the image colors\"\"\"\n",
    "     # If the image mode is not RGB, convert it\n",
    "    if img.mode != 'RGB':\n",
    "        img = img.convert('RGB')\n",
    "    \n",
    "    # Invert the image\n",
    "    return ImageOps.invert(img)"
   ]
  },
  {
   "cell_type": "code",
   "execution_count": 50,
   "metadata": {},
   "outputs": [],
   "source": [
    "\n",
    "def create_pdf_from_screenshots(input_folder, output_pdf, invert_dark=True, columns=2, margin=0.5, space=0.1):\n",
    "    \"\"\"\n",
    "    invert_dark - if True, images with black background are inverted (to safe on ink)\n",
    "    \"\"\"\n",
    "    \n",
    "    # Get all image files from the input folder\n",
    "    image_files = [f for f in os.listdir(input_folder) if f.lower().endswith(('.png', '.jpg', '.jpeg', '.gif'))]\n",
    "    \n",
    "    # Sort files to ensure consistent ordering\n",
    "    image_files.sort()\n",
    "    \n",
    "    # Create a new PDF\n",
    "    c = canvas.Canvas(output_pdf, pagesize=A4)\n",
    "    width, height = A4\n",
    "    \n",
    "    # Calculate usable width and height\n",
    "    usable_width = width - 2 * margin * inch\n",
    "    usable_height = height - 2 * margin * inch\n",
    "    \n",
    "    # Calculate column width\n",
    "    column_width = usable_width / columns\n",
    "    \n",
    "    x, y = margin * inch, height - margin * inch\n",
    "    current_column = 0\n",
    "    \n",
    "    for image_file in image_files:\n",
    "        img = Image.open(os.path.join(input_folder, image_file))\n",
    "        \n",
    "        img_width, img_height = img.size\n",
    "        \n",
    "        # Scale image to fit column width\n",
    "        scale_factor = (column_width - space) / img_width\n",
    "        new_height = img_height * scale_factor\n",
    "        \n",
    "        # Check if image fits on current page\n",
    "        if new_height < usable_height:\n",
    "            if y - new_height < margin * inch:\n",
    "                # Move to next column or new page\n",
    "                current_column += 1\n",
    "                if current_column >= columns:\n",
    "                    c.showPage()\n",
    "                    current_column = 0\n",
    "                    x = margin * inch\n",
    "                    y = height - margin * inch\n",
    "                else:\n",
    "                    x += column_width + space\n",
    "                    y = height - margin * inch\n",
    "        else:\n",
    "            print(\"[ERROR] Image does not fit\")\n",
    "        \n",
    "        # Draw image\n",
    "        if invert_dark and is_dark(img):\n",
    "            img = invert_colors(img)\n",
    "            #create temporary image file with inverted colors\n",
    "            temp_file = os.path.join(input_folder, f\"temp_{image_file}\")\n",
    "            img.save(temp_file)\n",
    "            c.drawImage(temp_file, x, y - new_height, width=(column_width - space), height=new_height)\n",
    "            os.remove(temp_file)\n",
    "        else:\n",
    "            c.drawImage(os.path.join(input_folder, image_file), x, y - new_height, width=(column_width - space), height=new_height)\n",
    "        y -= new_height\n",
    "    \n",
    "    # Save the PDF\n",
    "    c.save()"
   ]
  },
  {
   "cell_type": "code",
   "execution_count": 51,
   "metadata": {},
   "outputs": [],
   "source": [
    "input_folder = '../img'\n",
    "output_pdf = \"../merged.pdf\"\n",
    "create_pdf_from_screenshots(input_folder, output_pdf, invert_dark=True, columns=3, margin=0.3, space=10)"
   ]
  },
  {
   "cell_type": "code",
   "execution_count": null,
   "metadata": {},
   "outputs": [],
   "source": []
  }
 ],
 "metadata": {
  "kernelspec": {
   "display_name": "myenv",
   "language": "python",
   "name": "python3"
  },
  "language_info": {
   "codemirror_mode": {
    "name": "ipython",
    "version": 3
   },
   "file_extension": ".py",
   "mimetype": "text/x-python",
   "name": "python",
   "nbconvert_exporter": "python",
   "pygments_lexer": "ipython3",
   "version": "3.11.4"
  }
 },
 "nbformat": 4,
 "nbformat_minor": 2
}
